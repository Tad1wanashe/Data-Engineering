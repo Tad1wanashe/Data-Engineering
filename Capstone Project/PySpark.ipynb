{
 "cells": [
  {
   "cell_type": "code",
   "execution_count": 4,
   "metadata": {
    "editable": true
   },
   "outputs": [],
   "source": [
    "from pyspark.sql import SparkSession, SQLContext, GroupedData, HiveContext\n",
    "from pyspark.sql.functions import *\n",
    "from pyspark.sql.functions import date_add as d_add\n",
    "from pyspark.sql.types import DoubleType\n",
    "from pyspark.sql.functions import year, month, dayofmonth, weekofyear, date_format\n",
    "from pyspark.sql import functions as F\n",
    "from pyspark.sql.functions import monotonically_increasing_id\n",
    "from pyspark.sql.functions import lit\n",
    "from pyspark.sql import Row\n",
    "# Increased memory\n",
    "spark = SparkSession.builder.\\\n",
    "config(\"spark.jars.packages\",\"saurfang:spark-sas7bdat:2.0.0-s_2.11\")\\\n",
    ".config(\"spark.python.worker.memory\", \"15g\") \\\n",
    ".enableHiveSupport().getOrCreate()\n",
    "df=spark.read.parquet(\"sas_data\")"
   ]
  },
  {
   "cell_type": "code",
   "execution_count": 5,
   "metadata": {
    "editable": true
   },
   "outputs": [],
   "source": [
    "# Output the file as parquet\n",
    "output_path = \"output_data/\"\n",
    "def write_to_parquet(table, file_name):\n",
    "    \"\"\"\n",
    "    This function Allows us to write/transform/Overwrite a file to parquet.\n",
    "    It also stores the outputed filed in the directory output_data\n",
    "    \"\"\"\n",
    "    # write artists table to parquet files\n",
    "    file_output = output_path + file_name\n",
    "    table.write.mode(\"overwrite\").parquet(file_output)\n",
    "    \n",
    "#Combine Two data frames    \n",
    "\n",
    "def customUnion(df1, df2):\n",
    "    \"\"\"\n",
    "    This function is responsible for combining two data frames.\n",
    "    \"\"\"\n",
    "    cols1 = df1.columns\n",
    "    cols2 = df2.columns\n",
    "    total_cols = sorted(cols1 + list(set(cols2) - set(cols1)))\n",
    "    def expr(mycols, allcols):\n",
    "        def processCols(colname):\n",
    "            if colname in mycols:\n",
    "                return colname\n",
    "            else:\n",
    "                return lit(None).alias(colname)\n",
    "        cols = map(processCols, allcols)\n",
    "        return list(cols)\n",
    "    appended = df1.select(expr(cols1, total_cols)).union(df2.select(expr(cols2, total_cols)))\n",
    "    return appended"
   ]
  },
  {
   "cell_type": "code",
   "execution_count": 6,
   "metadata": {
    "editable": true
   },
   "outputs": [],
   "source": [
    "dfAirport = spark.read.format(\"csv\").option(\"header\", \"true\").load(\"airport-codes_csv.csv\")"
   ]
  },
  {
   "cell_type": "code",
   "execution_count": 7,
   "metadata": {
    "editable": true
   },
   "outputs": [
    {
     "name": "stdout",
     "output_type": "stream",
     "text": [
      "+-----+-------------+--------------------+------------+---------+-----------+----------+------------+--------+---------+----------+--------------------+\n",
      "|ident|         type|                name|elevation_ft|continent|iso_country|iso_region|municipality|gps_code|iata_code|local_code|         coordinates|\n",
      "+-----+-------------+--------------------+------------+---------+-----------+----------+------------+--------+---------+----------+--------------------+\n",
      "|  00A|     heliport|   Total Rf Heliport|          11|       NA|         US|     US-PA|    Bensalem|     00A|     null|       00A|-74.9336013793945...|\n",
      "| 00AA|small_airport|Aero B Ranch Airport|        3435|       NA|         US|     US-KS|       Leoti|    00AA|     null|      00AA|-101.473911, 38.7...|\n",
      "| 00AK|small_airport|        Lowell Field|         450|       NA|         US|     US-AK|Anchor Point|    00AK|     null|      00AK|-151.695999146, 5...|\n",
      "| 00AL|small_airport|        Epps Airpark|         820|       NA|         US|     US-AL|     Harvest|    00AL|     null|      00AL|-86.7703018188476...|\n",
      "| 00AR|       closed|Newport Hospital ...|         237|       NA|         US|     US-AR|     Newport|    null|     null|      null| -91.254898, 35.6087|\n",
      "| 00AS|small_airport|      Fulton Airport|        1100|       NA|         US|     US-OK|        Alex|    00AS|     null|      00AS|-97.8180194, 34.9...|\n",
      "| 00AZ|small_airport|      Cordes Airport|        3810|       NA|         US|     US-AZ|      Cordes|    00AZ|     null|      00AZ|-112.165000915527...|\n",
      "| 00CA|small_airport|Goldstone /Gts/ A...|        3038|       NA|         US|     US-CA|     Barstow|    00CA|     null|      00CA|-116.888000488, 3...|\n",
      "| 00CL|small_airport| Williams Ag Airport|          87|       NA|         US|     US-CA|       Biggs|    00CL|     null|      00CL|-121.763427, 39.4...|\n",
      "| 00CN|     heliport|Kitchen Creek Hel...|        3350|       NA|         US|     US-CA| Pine Valley|    00CN|     null|      00CN|-116.4597417, 32....|\n",
      "+-----+-------------+--------------------+------------+---------+-----------+----------+------------+--------+---------+----------+--------------------+\n",
      "only showing top 10 rows\n",
      "\n"
     ]
    }
   ],
   "source": [
    "dfAirport.show(10)"
   ]
  },
  {
   "cell_type": "code",
   "execution_count": 8,
   "metadata": {
    "editable": true
   },
   "outputs": [],
   "source": [
    "#Take the countries that are US only for the requirements of this project\n",
    "#drop Unneccesary columns\n",
    "dfAirport = dfAirport \\\n",
    "        .where(\n",
    "        (col(\"iso_country\")==\"US\"))\\\n",
    "        .dropDuplicates()\\\n",
    "        .drop(\"local_code\", \"elevation_ft\", \"continent\", \"iso_region\", \"municipality\")\n"
   ]
  },
  {
   "cell_type": "code",
   "execution_count": 9,
   "metadata": {
    "editable": true
   },
   "outputs": [],
   "source": [
    "dimAirport = dfAirport.select(['ident', 'type', 'name', 'gps_code', 'iata_code', 'coordinates']) \\\n",
    "                .dropDuplicates().dropna()"
   ]
  },
  {
   "cell_type": "code",
   "execution_count": 10,
   "metadata": {
    "editable": true
   },
   "outputs": [],
   "source": [
    "write_to_parquet(dimAirport, \"dimAirport.parquet\")"
   ]
  },
  {
   "cell_type": "code",
   "execution_count": 11,
   "metadata": {
    "editable": true
   },
   "outputs": [
    {
     "name": "stdout",
     "output_type": "stream",
     "text": [
      "+-----+--------------+--------------------+--------+---------+--------------------+\n",
      "|ident|          type|                name|gps_code|iata_code|         coordinates|\n",
      "+-----+--------------+--------------------+--------+---------+--------------------+\n",
      "| KLAR|medium_airport|Laramie Regional ...|    KLAR|      LAR|-105.675003051757...|\n",
      "| KE24| small_airport|  Whiteriver Airport|     E24|      WTR|-109.9869995, 33....|\n",
      "| KSYI| small_airport|Bomar Field Shelb...|    KSYI|      SYI|-86.44249725, 35....|\n",
      "| KGNG| small_airport|Gooding Municipal...|    KGNG|      GNG|-114.7649994, 42....|\n",
      "| KCSQ| small_airport|Creston Municipal...|    KCSQ|      CSQ|-94.3632965087999...|\n",
      "| KUNU| small_airport|Dodge County Airport|    KUNU|      UNU|-88.70320129, 43....|\n",
      "| PAGN| seaplane_base|Angoon Seaplane Base|    PAGN|      AGN|-134.585007, 57.5...|\n",
      "| PHLI|medium_airport|       Lihue Airport|    PHLI|      LIH|-159.339004516601...|\n",
      "| PAVL|medium_airport|    Kivalina Airport|    PAVL|      KVL|-164.563003540039...|\n",
      "| KFKL|medium_airport|Venango Regional ...|    KFKL|      FKL|-79.8603973389, 4...|\n",
      "+-----+--------------+--------------------+--------+---------+--------------------+\n",
      "only showing top 10 rows\n",
      "\n"
     ]
    }
   ],
   "source": [
    "dimAirport.show(10)"
   ]
  },
  {
   "cell_type": "code",
   "execution_count": 12,
   "metadata": {
    "editable": true
   },
   "outputs": [],
   "source": [
    "demo = spark.read.format(\"csv\").option(\"header\", \"true\").option(\"delimiter\", \";\").load(\"us-cities-demographics.csv\")"
   ]
  },
  {
   "cell_type": "code",
   "execution_count": 13,
   "metadata": {
    "editable": true
   },
   "outputs": [
    {
     "name": "stdout",
     "output_type": "stream",
     "text": [
      "+----------------+--------------+----------+---------------+-----------------+----------------+------------------+------------+----------------------+----------+--------------------+-----+\n",
      "|            City|         State|Median Age|Male Population|Female Population|Total Population|Number of Veterans|Foreign-born|Average Household Size|State Code|                Race|Count|\n",
      "+----------------+--------------+----------+---------------+-----------------+----------------+------------------+------------+----------------------+----------+--------------------+-----+\n",
      "|   Silver Spring|      Maryland|      33.8|          40601|            41862|           82463|              1562|       30908|                   2.6|        MD|  Hispanic or Latino|25924|\n",
      "|          Quincy| Massachusetts|      41.0|          44129|            49500|           93629|              4147|       32935|                  2.39|        MA|               White|58723|\n",
      "|          Hoover|       Alabama|      38.5|          38040|            46799|           84839|              4819|        8229|                  2.58|        AL|               Asian| 4759|\n",
      "|Rancho Cucamonga|    California|      34.5|          88127|            87105|          175232|              5821|       33878|                  3.18|        CA|Black or African-...|24437|\n",
      "|          Newark|    New Jersey|      34.6|         138040|           143873|          281913|              5829|       86253|                  2.73|        NJ|               White|76402|\n",
      "|          Peoria|      Illinois|      33.1|          56229|            62432|          118661|              6634|        7517|                   2.4|        IL|American Indian a...| 1343|\n",
      "|        Avondale|       Arizona|      29.1|          38712|            41971|           80683|              4815|        8355|                  3.18|        AZ|Black or African-...|11592|\n",
      "|     West Covina|    California|      39.8|          51629|            56860|          108489|              3800|       37038|                  3.56|        CA|               Asian|32716|\n",
      "|        O'Fallon|      Missouri|      36.0|          41762|            43270|           85032|              5783|        3269|                  2.77|        MO|  Hispanic or Latino| 2583|\n",
      "|      High Point|North Carolina|      35.5|          51751|            58077|          109828|              5204|       16315|                  2.65|        NC|               Asian|11060|\n",
      "+----------------+--------------+----------+---------------+-----------------+----------------+------------------+------------+----------------------+----------+--------------------+-----+\n",
      "only showing top 10 rows\n",
      "\n"
     ]
    }
   ],
   "source": [
    "demo.show(10)"
   ]
  },
  {
   "cell_type": "code",
   "execution_count": 14,
   "metadata": {
    "editable": true
   },
   "outputs": [
    {
     "name": "stdout",
     "output_type": "stream",
     "text": [
      "Print schema:\n",
      "root\n",
      " |-- cicid: double (nullable = true)\n",
      " |-- i94yr: double (nullable = true)\n",
      " |-- i94mon: double (nullable = true)\n",
      " |-- i94cit: double (nullable = true)\n",
      " |-- i94res: double (nullable = true)\n",
      " |-- i94port: string (nullable = true)\n",
      " |-- arrdate: double (nullable = true)\n",
      " |-- i94mode: double (nullable = true)\n",
      " |-- i94addr: string (nullable = true)\n",
      " |-- depdate: double (nullable = true)\n",
      " |-- i94bir: double (nullable = true)\n",
      " |-- i94visa: double (nullable = true)\n",
      " |-- count: double (nullable = true)\n",
      " |-- dtadfile: string (nullable = true)\n",
      " |-- visapost: string (nullable = true)\n",
      " |-- occup: string (nullable = true)\n",
      " |-- entdepa: string (nullable = true)\n",
      " |-- entdepd: string (nullable = true)\n",
      " |-- entdepu: string (nullable = true)\n",
      " |-- matflag: string (nullable = true)\n",
      " |-- biryear: double (nullable = true)\n",
      " |-- dtaddto: string (nullable = true)\n",
      " |-- gender: string (nullable = true)\n",
      " |-- insnum: string (nullable = true)\n",
      " |-- airline: string (nullable = true)\n",
      " |-- admnum: double (nullable = true)\n",
      " |-- fltno: string (nullable = true)\n",
      " |-- visatype: string (nullable = true)\n",
      "\n"
     ]
    }
   ],
   "source": [
    "\n",
    "print(\"Print schema:\")\n",
    "df.printSchema()"
   ]
  },
  {
   "cell_type": "code",
   "execution_count": 15,
   "metadata": {
    "editable": true
   },
   "outputs": [],
   "source": [
    "# Rename columns, drop unneccesary columns and give them the right data type\n",
    "df = df \\\n",
    ".withColumn(\"cicid\", col(\"cicid\").cast(\"integer\")) \\\n",
    ".withColumn(\"Year\", col(\"i94yr\").cast(\"integer\")) \\\n",
    ".drop(\"i94yr\") \\\n",
    ".withColumn(\"Month\", col(\"i94mon\").cast(\"integer\")) \\\n",
    ".drop(\"i94mon\") \\\n",
    ".withColumn(\"BirthCountry\", col(\"i94cit\").cast(\"integer\")) \\\n",
    ".drop(\"i94cit\") \\\n",
    ".withColumn(\"ResidingCountry\", col(\"i94res\").cast(\"integer\")) \\\n",
    ".drop(\"i94res\") \\\n",
    ".withColumnRenamed(\"i94port\", \"arrivalPort\") \\\n",
    ".withColumn(\"Mode\", col(\"i94mode\").cast(\"integer\")) \\\n",
    ".drop(\"i94mode\") \\\n",
    ".withColumnRenamed(\"i94addr\", \"ArrivalAddress\") \\\n",
    ".withColumn(\"Age\", col(\"i94bir\").cast(\"integer\")) \\\n",
    ".drop(\"i94bir\") \\\n",
    ".withColumn(\"VisaCodes\", col(\"i94visa\").cast(\"integer\")) \\\n",
    ".drop(\"i94visa\") \\\n",
    ".withColumnRenamed(\"entdepa\", \"ArrivalFlag\") \\\n",
    ".withColumnRenamed(\"entdepd\", \"DepartureFlag\") \\\n",
    ".withColumnRenamed(\"entdepu\", \"UpdateFlag\") \\\n",
    ".withColumnRenamed(\"matflag\", \"MatchFlag\") \\\n",
    ".withColumn(\"YearOfBirth\", col(\"biryear\").cast(\"integer\")) \\\n",
    ".drop(\"biryear\") \\\n",
    ".withColumnRenamed(\"fltno\", \"FlightNumber\") \\\n",
    ".withColumnRenamed(\"VisaType\", \"VisaType\") \\\n",
    ".withColumn(\"sasDate\", to_date(lit(\"01/01/1960\"), \"MM/dd/yyyy\")) \\\n",
    ".withColumn(\"arrivalDate\", expr(\"date_add(sasDate, arrdate)\")) \\\n",
    ".withColumn(\"departureDate\", expr(\"date_add(sasDate, depdate)\")) \\\n",
    ".drop(\"sasDate\", \"arrdate\", \"depdate\", \"count\", \"admnum\", \"dtadfile\", \"visapost\", \"occup\", \"dtaddto\", \"insnum\")"
   ]
  },
  {
   "cell_type": "code",
   "execution_count": 16,
   "metadata": {
    "editable": true
   },
   "outputs": [
    {
     "name": "stdout",
     "output_type": "stream",
     "text": [
      "Print schema:\n",
      "root\n",
      " |-- cicid: integer (nullable = true)\n",
      " |-- arrivalPort: string (nullable = true)\n",
      " |-- ArrivalAddress: string (nullable = true)\n",
      " |-- ArrivalFlag: string (nullable = true)\n",
      " |-- DepartureFlag: string (nullable = true)\n",
      " |-- UpdateFlag: string (nullable = true)\n",
      " |-- MatchFlag: string (nullable = true)\n",
      " |-- gender: string (nullable = true)\n",
      " |-- airline: string (nullable = true)\n",
      " |-- FlightNumber: string (nullable = true)\n",
      " |-- VisaType: string (nullable = true)\n",
      " |-- Year: integer (nullable = true)\n",
      " |-- Month: integer (nullable = true)\n",
      " |-- BirthCountry: integer (nullable = true)\n",
      " |-- ResidingCountry: integer (nullable = true)\n",
      " |-- Mode: integer (nullable = true)\n",
      " |-- Age: integer (nullable = true)\n",
      " |-- VisaCodes: integer (nullable = true)\n",
      " |-- YearOfBirth: integer (nullable = true)\n",
      " |-- arrivalDate: date (nullable = true)\n",
      " |-- departureDate: date (nullable = true)\n",
      "\n"
     ]
    }
   ],
   "source": [
    "print(\"Print schema:\")\n",
    "df.printSchema()"
   ]
  },
  {
   "cell_type": "code",
   "execution_count": 17,
   "metadata": {
    "editable": true
   },
   "outputs": [
    {
     "data": {
      "text/plain": [
       "[Row(cicid=5748517, arrivalPort='LOS', ArrivalAddress='CA', ArrivalFlag='G', DepartureFlag='O', UpdateFlag=None, MatchFlag='M', gender='F', airline='QF', FlightNumber='00011', VisaType='B1', Year=2016, Month=4, BirthCountry=245, ResidingCountry=438, Mode=1, Age=40, VisaCodes=1, YearOfBirth=1976, arrivalDate=datetime.date(2016, 4, 30), departureDate=datetime.date(2016, 5, 8)),\n",
       " Row(cicid=5748518, arrivalPort='LOS', ArrivalAddress='NV', ArrivalFlag='G', DepartureFlag='O', UpdateFlag=None, MatchFlag='M', gender='F', airline='VA', FlightNumber='00007', VisaType='B1', Year=2016, Month=4, BirthCountry=245, ResidingCountry=438, Mode=1, Age=32, VisaCodes=1, YearOfBirth=1984, arrivalDate=datetime.date(2016, 4, 30), departureDate=datetime.date(2016, 5, 17)),\n",
       " Row(cicid=5748519, arrivalPort='LOS', ArrivalAddress='WA', ArrivalFlag='G', DepartureFlag='O', UpdateFlag=None, MatchFlag='M', gender='M', airline='DL', FlightNumber='00040', VisaType='B1', Year=2016, Month=4, BirthCountry=245, ResidingCountry=438, Mode=1, Age=29, VisaCodes=1, YearOfBirth=1987, arrivalDate=datetime.date(2016, 4, 30), departureDate=datetime.date(2016, 5, 8)),\n",
       " Row(cicid=5748520, arrivalPort='LOS', ArrivalAddress='WA', ArrivalFlag='G', DepartureFlag='O', UpdateFlag=None, MatchFlag='M', gender='F', airline='DL', FlightNumber='00040', VisaType='B1', Year=2016, Month=4, BirthCountry=245, ResidingCountry=438, Mode=1, Age=29, VisaCodes=1, YearOfBirth=1987, arrivalDate=datetime.date(2016, 4, 30), departureDate=datetime.date(2016, 5, 14)),\n",
       " Row(cicid=5748521, arrivalPort='LOS', ArrivalAddress='WA', ArrivalFlag='G', DepartureFlag='O', UpdateFlag=None, MatchFlag='M', gender='M', airline='DL', FlightNumber='00040', VisaType='B1', Year=2016, Month=4, BirthCountry=245, ResidingCountry=438, Mode=1, Age=28, VisaCodes=1, YearOfBirth=1988, arrivalDate=datetime.date(2016, 4, 30), departureDate=datetime.date(2016, 5, 14)),\n",
       " Row(cicid=5748522, arrivalPort='HHW', ArrivalAddress='HI', ArrivalFlag='G', DepartureFlag='O', UpdateFlag=None, MatchFlag='M', gender='M', airline='NZ', FlightNumber='00010', VisaType='B2', Year=2016, Month=4, BirthCountry=245, ResidingCountry=464, Mode=1, Age=57, VisaCodes=2, YearOfBirth=1959, arrivalDate=datetime.date(2016, 4, 30), departureDate=datetime.date(2016, 5, 5)),\n",
       " Row(cicid=5748523, arrivalPort='HHW', ArrivalAddress='HI', ArrivalFlag='G', DepartureFlag='O', UpdateFlag=None, MatchFlag='M', gender='F', airline='NZ', FlightNumber='00010', VisaType='B2', Year=2016, Month=4, BirthCountry=245, ResidingCountry=464, Mode=1, Age=66, VisaCodes=2, YearOfBirth=1950, arrivalDate=datetime.date(2016, 4, 30), departureDate=datetime.date(2016, 5, 12)),\n",
       " Row(cicid=5748524, arrivalPort='HHW', ArrivalAddress='HI', ArrivalFlag='G', DepartureFlag='O', UpdateFlag=None, MatchFlag='M', gender='F', airline='NZ', FlightNumber='00010', VisaType='B2', Year=2016, Month=4, BirthCountry=245, ResidingCountry=464, Mode=1, Age=41, VisaCodes=2, YearOfBirth=1975, arrivalDate=datetime.date(2016, 4, 30), departureDate=datetime.date(2016, 5, 12)),\n",
       " Row(cicid=5748525, arrivalPort='HOU', ArrivalAddress='FL', ArrivalFlag='G', DepartureFlag='O', UpdateFlag=None, MatchFlag='M', gender='M', airline='NZ', FlightNumber='00028', VisaType='B2', Year=2016, Month=4, BirthCountry=245, ResidingCountry=464, Mode=1, Age=27, VisaCodes=2, YearOfBirth=1989, arrivalDate=datetime.date(2016, 4, 30), departureDate=datetime.date(2016, 5, 7)),\n",
       " Row(cicid=5748526, arrivalPort='LOS', ArrivalAddress='CA', ArrivalFlag='G', DepartureFlag='O', UpdateFlag=None, MatchFlag='M', gender='F', airline='NZ', FlightNumber='00002', VisaType='B2', Year=2016, Month=4, BirthCountry=245, ResidingCountry=464, Mode=1, Age=26, VisaCodes=2, YearOfBirth=1990, arrivalDate=datetime.date(2016, 4, 30), departureDate=datetime.date(2016, 5, 7)),\n",
       " Row(cicid=5748527, arrivalPort='NEW', ArrivalAddress='MA', ArrivalFlag='G', DepartureFlag='O', UpdateFlag=None, MatchFlag='M', gender='M', airline='UA', FlightNumber='01215', VisaType='B2', Year=2016, Month=4, BirthCountry=245, ResidingCountry=504, Mode=1, Age=44, VisaCodes=2, YearOfBirth=1972, arrivalDate=datetime.date(2016, 4, 30), departureDate=datetime.date(2016, 5, 2)),\n",
       " Row(cicid=5748528, arrivalPort='LOS', ArrivalAddress=None, ArrivalFlag='G', DepartureFlag='O', UpdateFlag=None, MatchFlag='M', gender='M', airline='CM', FlightNumber='00472', VisaType='B2', Year=2016, Month=4, BirthCountry=245, ResidingCountry=504, Mode=1, Age=39, VisaCodes=2, YearOfBirth=1977, arrivalDate=datetime.date(2016, 4, 30), departureDate=datetime.date(2016, 5, 1)),\n",
       " Row(cicid=5748529, arrivalPort='WAS', ArrivalAddress='VA', ArrivalFlag='G', DepartureFlag='O', UpdateFlag=None, MatchFlag='M', gender='M', airline='CM', FlightNumber='00488', VisaType='B2', Year=2016, Month=4, BirthCountry=245, ResidingCountry=504, Mode=1, Age=38, VisaCodes=2, YearOfBirth=1978, arrivalDate=datetime.date(2016, 4, 30), departureDate=datetime.date(2016, 5, 22)),\n",
       " Row(cicid=5748530, arrivalPort='LOS', ArrivalAddress='CA', ArrivalFlag='G', DepartureFlag='O', UpdateFlag=None, MatchFlag='M', gender='F', airline='CM', FlightNumber='00302', VisaType='B2', Year=2016, Month=4, BirthCountry=245, ResidingCountry=504, Mode=1, Age=56, VisaCodes=2, YearOfBirth=1960, arrivalDate=datetime.date(2016, 4, 30), departureDate=datetime.date(2016, 5, 3)),\n",
       " Row(cicid=5748531, arrivalPort='LOS', ArrivalAddress='CA', ArrivalFlag='G', DepartureFlag='O', UpdateFlag=None, MatchFlag='M', gender='M', airline='CM', FlightNumber='00302', VisaType='B2', Year=2016, Month=4, BirthCountry=245, ResidingCountry=504, Mode=1, Age=38, VisaCodes=2, YearOfBirth=1978, arrivalDate=datetime.date(2016, 4, 30), departureDate=datetime.date(2016, 5, 3)),\n",
       " Row(cicid=5748532, arrivalPort='MIA', ArrivalAddress='FL', ArrivalFlag='G', DepartureFlag='O', UpdateFlag=None, MatchFlag='M', gender='F', airline='CM', FlightNumber='00430', VisaType='B2', Year=2016, Month=4, BirthCountry=245, ResidingCountry=504, Mode=1, Age=53, VisaCodes=2, YearOfBirth=1963, arrivalDate=datetime.date(2016, 4, 30), departureDate=datetime.date(2016, 5, 7)),\n",
       " Row(cicid=5748534, arrivalPort='SFR', ArrivalAddress='CA', ArrivalFlag='G', DepartureFlag=None, UpdateFlag=None, MatchFlag=None, gender='F', airline='CX', FlightNumber='00872', VisaType='B2', Year=2016, Month=4, BirthCountry=245, ResidingCountry=528, Mode=1, Age=84, VisaCodes=2, YearOfBirth=1932, arrivalDate=datetime.date(2016, 4, 30), departureDate=None),\n",
       " Row(cicid=5748876, arrivalPort='HOU', ArrivalAddress='TX', ArrivalFlag='G', DepartureFlag='O', UpdateFlag=None, MatchFlag='M', gender='M', airline='UA', FlightNumber='05574', VisaType='B1', Year=2016, Month=4, BirthCountry=245, ResidingCountry=582, Mode=1, Age=43, VisaCodes=1, YearOfBirth=1973, arrivalDate=datetime.date(2016, 4, 30), departureDate=datetime.date(2016, 5, 9)),\n",
       " Row(cicid=5748877, arrivalPort='HOU', ArrivalAddress='TX', ArrivalFlag='G', DepartureFlag='O', UpdateFlag=None, MatchFlag='M', gender='F', airline='UA', FlightNumber='05574', VisaType='B1', Year=2016, Month=4, BirthCountry=245, ResidingCountry=582, Mode=1, Age=30, VisaCodes=1, YearOfBirth=1986, arrivalDate=datetime.date(2016, 4, 30), departureDate=datetime.date(2016, 5, 9)),\n",
       " Row(cicid=5748881, arrivalPort='LOS', ArrivalAddress='CA', ArrivalFlag='G', DepartureFlag='O', UpdateFlag=None, MatchFlag='M', gender='M', airline='AM', FlightNumber='00646', VisaType='B2', Year=2016, Month=4, BirthCountry=245, ResidingCountry=582, Mode=1, Age=34, VisaCodes=2, YearOfBirth=1982, arrivalDate=datetime.date(2016, 4, 30), departureDate=datetime.date(2016, 5, 1))]"
      ]
     },
     "execution_count": 17,
     "metadata": {},
     "output_type": "execute_result"
    }
   ],
   "source": [
    "df.head(20)"
   ]
  },
  {
   "cell_type": "code",
   "execution_count": 18,
   "metadata": {
    "editable": true
   },
   "outputs": [],
   "source": [
    "dimTime = df.select(['arrivalDate'])\\\n",
    "                .withColumnRenamed('arrivalDate', 'FullYear')\n",
    "\n",
    "dimTime = dimTime \\\n",
    "             .withColumn('Day', F.dayofmonth('FullYear')) \\\n",
    "             .withColumn('Month', F.month('FullYear')) \\\n",
    "             .withColumn('Year', F.year('FullYear')) \\\n",
    "             .withColumn('WeekDay', F.dayofweek('FullYear'))\\\n",
    "             .dropDuplicates()\n",
    "write_to_parquet(dimTime,\"dimTime.parquet\" )"
   ]
  },
  {
   "cell_type": "code",
   "execution_count": 19,
   "metadata": {
    "editable": true
   },
   "outputs": [
    {
     "name": "stdout",
     "output_type": "stream",
     "text": [
      "+----------+---+-----+----+-------+\n",
      "|  FullYear|Day|Month|Year|WeekDay|\n",
      "+----------+---+-----+----+-------+\n",
      "|2016-04-28| 28|    4|2016|      5|\n",
      "|2016-04-14| 14|    4|2016|      5|\n",
      "|2016-04-11| 11|    4|2016|      2|\n",
      "|2016-04-01|  1|    4|2016|      6|\n",
      "|2016-04-26| 26|    4|2016|      3|\n",
      "|2016-04-27| 27|    4|2016|      4|\n",
      "|2016-04-16| 16|    4|2016|      7|\n",
      "|2016-04-20| 20|    4|2016|      4|\n",
      "|2016-04-24| 24|    4|2016|      1|\n",
      "|2016-04-30| 30|    4|2016|      7|\n",
      "+----------+---+-----+----+-------+\n",
      "only showing top 10 rows\n",
      "\n"
     ]
    }
   ],
   "source": [
    "dimTime.show(10)"
   ]
  },
  {
   "cell_type": "code",
   "execution_count": 20,
   "metadata": {
    "editable": true
   },
   "outputs": [],
   "source": [
    "dimImmigrant = df.select(['YearOfBirth','gender'])\\\n",
    "                    .dropDuplicates() \\\n",
    "                    .withColumn(\"Immigrant_ID\", \\\n",
    "                               monotonically_increasing_id())\n",
    "\n",
    "# then since the Immigrant_ID is increasing but not consecutive, it means you can sort by it, so you can use the `row_number`\n",
    "# depending on what operations need to be done on the dim\n",
    "dimImmigrant.createOrReplaceTempView('dimImmigrant')\n",
    "new_dimImmigrant = spark.sql('select row_number() over (order by \"Immigrant_ID\") as num, * from dimImmigrant')"
   ]
  },
  {
   "cell_type": "code",
   "execution_count": 21,
   "metadata": {
    "editable": true
   },
   "outputs": [
    {
     "name": "stdout",
     "output_type": "stream",
     "text": [
      "+---+-----------+------+------------+\n",
      "|num|YearOfBirth|gender|Immigrant_ID|\n",
      "+---+-----------+------+------------+\n",
      "|  1|       1972|     M|           0|\n",
      "|  2|       1959|  null|           1|\n",
      "|  3|       2004|     F|           2|\n",
      "|  4|       1927|     M|           3|\n",
      "|  5|       1930|     M|           4|\n",
      "|  6|       1990|  null|  8589934592|\n",
      "|  7|       1937|     M|  8589934593|\n",
      "|  8|       1933|     M|  8589934594|\n",
      "|  9|       1932|     X|  8589934595|\n",
      "| 10|       1908|     M| 17179869184|\n",
      "+---+-----------+------+------------+\n",
      "only showing top 10 rows\n",
      "\n"
     ]
    }
   ],
   "source": [
    "new_dimImmigrant.show(10)"
   ]
  },
  {
   "cell_type": "code",
   "execution_count": 22,
   "metadata": {
    "editable": true
   },
   "outputs": [],
   "source": [
    "write_to_parquet(dimImmigrant,\"dimImmigrant.par\")"
   ]
  },
  {
   "cell_type": "code",
   "execution_count": 23,
   "metadata": {
    "editable": true
   },
   "outputs": [
    {
     "name": "stdout",
     "output_type": "stream",
     "text": [
      "+-----------+------+------------+\n",
      "|YearOfBirth|gender|Immigrant_ID|\n",
      "+-----------+------+------------+\n",
      "|       1972|     M|           0|\n",
      "|       1959|  null|           1|\n",
      "|       2004|     F|           2|\n",
      "|       1927|     M|           3|\n",
      "|       1930|     M|           4|\n",
      "|       1990|  null|  8589934592|\n",
      "|       1937|     M|  8589934593|\n",
      "|       1933|     M|  8589934594|\n",
      "|       1932|     X|  8589934595|\n",
      "|       1908|     M| 17179869184|\n",
      "+-----------+------+------------+\n",
      "only showing top 10 rows\n",
      "\n"
     ]
    }
   ],
   "source": [
    "dimImmigrant.show(10)"
   ]
  },
  {
   "cell_type": "code",
   "execution_count": 24,
   "metadata": {
    "editable": true
   },
   "outputs": [],
   "source": [
    "dimCountry = df.select('BirthCountry').distinct()\\\n",
    "                .withColumn(\"Country_ID\", \\\n",
    "                          monotonically_increasing_id())\n",
    "\n",
    "dimCountry.createOrReplaceTempView('dimCountry')\n",
    "new_dimCountry = spark.sql('select row_number() over (order by \"Country_ID\") as num, * from dimCountry')"
   ]
  },
  {
   "cell_type": "code",
   "execution_count": 25,
   "metadata": {
    "editable": true
   },
   "outputs": [
    {
     "name": "stdout",
     "output_type": "stream",
     "text": [
      "+---+------------+-----------+\n",
      "|num|BirthCountry| Country_ID|\n",
      "+---+------------+-----------+\n",
      "|  1|         148|          0|\n",
      "|  2|         392| 8589934592|\n",
      "|  3|         516|17179869184|\n",
      "|  4|         251|25769803776|\n",
      "|  5|         580|25769803777|\n",
      "|  6|         255|42949672960|\n",
      "|  7|         296|51539607552|\n",
      "|  8|         133|51539607553|\n",
      "|  9|         472|51539607554|\n",
      "| 10|         322|60129542144|\n",
      "+---+------------+-----------+\n",
      "only showing top 10 rows\n",
      "\n"
     ]
    }
   ],
   "source": [
    "new_dimCountry.show(10)"
   ]
  },
  {
   "cell_type": "code",
   "execution_count": 26,
   "metadata": {
    "editable": true
   },
   "outputs": [],
   "source": [
    "write_to_parquet(dimCountry, \"dimCountry.parquet\")"
   ]
  },
  {
   "cell_type": "code",
   "execution_count": 27,
   "metadata": {
    "editable": true
   },
   "outputs": [
    {
     "name": "stdout",
     "output_type": "stream",
     "text": [
      "+------------+-----------+\n",
      "|BirthCountry| Country_ID|\n",
      "+------------+-----------+\n",
      "|         148|          0|\n",
      "|         392| 8589934592|\n",
      "|         516|17179869184|\n",
      "|         251|25769803776|\n",
      "|         580|25769803777|\n",
      "|         255|42949672960|\n",
      "|         296|51539607552|\n",
      "|         133|51539607553|\n",
      "|         472|51539607554|\n",
      "|         322|60129542144|\n",
      "+------------+-----------+\n",
      "only showing top 10 rows\n",
      "\n"
     ]
    }
   ],
   "source": [
    "dimCountry.show(10)"
   ]
  },
  {
   "cell_type": "code",
   "execution_count": 29,
   "metadata": {
    "editable": true
   },
   "outputs": [],
   "source": [
    "dimLandingHarbour=df.select('arrivalPort').distinct()\\\n",
    "                    .dropDuplicates()\\\n",
    "                    .withColumn(\"Port_ID\",\n",
    "                               monotonically_increasing_id())\n",
    "\n",
    "\n",
    "dimLandingHarbour.createOrReplaceTempView('dimLandingHarbour')\n",
    "new_dimLandingHarbour = spark.sql('select row_number() over (order by \"Port_ID\") as num, * from dimLandingHarbour')"
   ]
  },
  {
   "cell_type": "code",
   "execution_count": 30,
   "metadata": {
    "editable": true
   },
   "outputs": [
    {
     "name": "stdout",
     "output_type": "stream",
     "text": [
      "+---+-----------+----------+\n",
      "|num|arrivalPort|   Port_ID|\n",
      "+---+-----------+----------+\n",
      "|  1|        FMY|         0|\n",
      "|  2|        BGM|         1|\n",
      "|  3|        HEL|8589934592|\n",
      "|  4|        DNS|8589934593|\n",
      "|  5|        MOR|8589934594|\n",
      "+---+-----------+----------+\n",
      "only showing top 5 rows\n",
      "\n"
     ]
    }
   ],
   "source": [
    "new_dimLandingHarbour.show(5)"
   ]
  },
  {
   "cell_type": "code",
   "execution_count": 31,
   "metadata": {
    "editable": true
   },
   "outputs": [],
   "source": [
    "write_to_parquet(dimLandingHarbour, \"dimLandingHarbour.parquet\")"
   ]
  },
  {
   "cell_type": "code",
   "execution_count": 32,
   "metadata": {
    "editable": true
   },
   "outputs": [
    {
     "name": "stdout",
     "output_type": "stream",
     "text": [
      "+-----------+-----------+\n",
      "|arrivalPort|    Port_ID|\n",
      "+-----------+-----------+\n",
      "|        FMY|          0|\n",
      "|        BGM|          1|\n",
      "|        HEL| 8589934592|\n",
      "|        DNS| 8589934593|\n",
      "|        MOR| 8589934594|\n",
      "|        FOK|25769803776|\n",
      "|        HVR|25769803777|\n",
      "|        SNA|34359738368|\n",
      "|        PTK|34359738369|\n",
      "|        CLG|42949672960|\n",
      "+-----------+-----------+\n",
      "only showing top 10 rows\n",
      "\n"
     ]
    }
   ],
   "source": [
    "dimLandingHarbour.show(10)"
   ]
  },
  {
   "cell_type": "code",
   "execution_count": 33,
   "metadata": {
    "editable": true
   },
   "outputs": [],
   "source": [
    "dimVisa=df.select('VisaType').distinct()\\\n",
    "                    .dropDuplicates()\\\n",
    "                    .withColumn(\"Visa_ID\",\n",
    "                               monotonically_increasing_id())"
   ]
  },
  {
   "cell_type": "code",
   "execution_count": 34,
   "metadata": {
    "editable": true
   },
   "outputs": [
    {
     "name": "stdout",
     "output_type": "stream",
     "text": [
      "+--------+------------+\n",
      "|VisaType|     Visa_ID|\n",
      "+--------+------------+\n",
      "|      F2|103079215104|\n",
      "|     GMB|352187318272|\n",
      "|      B2|369367187456|\n",
      "|      F1|498216206336|\n",
      "|     CPL|601295421440|\n",
      "|      I1|704374636544|\n",
      "|      WB|738734374912|\n",
      "|      M1|747324309504|\n",
      "|      B1|807453851648|\n",
      "|      WT|884763262976|\n",
      "+--------+------------+\n",
      "only showing top 10 rows\n",
      "\n"
     ]
    }
   ],
   "source": [
    "dimVisa.show(10)"
   ]
  },
  {
   "cell_type": "code",
   "execution_count": null,
   "metadata": {
    "editable": true
   },
   "outputs": [],
   "source": []
  }
 ],
 "metadata": {
  "kernelspec": {
   "display_name": "Python 3",
   "language": "python",
   "name": "python3"
  },
  "language_info": {
   "codemirror_mode": {
    "name": "ipython",
    "version": 3
   },
   "file_extension": ".py",
   "mimetype": "text/x-python",
   "name": "python",
   "nbconvert_exporter": "python",
   "pygments_lexer": "ipython3",
   "version": "3.6.3"
  }
 },
 "nbformat": 4,
 "nbformat_minor": 4
}
